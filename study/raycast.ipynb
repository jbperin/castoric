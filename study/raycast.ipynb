{
 "cells": [
  {
   "cell_type": "code",
   "execution_count": null,
   "metadata": {},
   "outputs": [],
   "source": []
  },
  {
   "cell_type": "code",
   "execution_count": null,
   "metadata": {},
   "outputs": [],
   "source": []
  },
  {
   "cell_type": "markdown",
   "metadata": {},
   "source": [
    "![title](img/raycastcalcul.png)"
   ]
  },
  {
   "cell_type": "markdown",
   "metadata": {},
   "source": [
    "## Données d'entrée du problème\n",
    "La caméra se trouve au point C de coordonnées $\\binom{x_c}{y_c}$.\n",
    "\n",
    "Le mur est délimité par les deux points P1 et P2 de coordonnées respectives $\\binom{x_1}{y_1}$ et $\\binom{x_2}{y_2}$.\n",
    "\n",
    "Nous traçons un rayon partant du point C et dirigé vers le mur.\n",
    "\n",
    "Le rayon forme un angle ${\\color{green}\\alpha}$ avec l'axe des abscisses.\n",
    "\n",
    "\n",
    "## Données de sorties\n",
    "\n",
    "Nous cherchons à calculer:\n",
    "- la distance entre la caméra et le point d'intersection du rayon avec le mur (car c'est elle qui nous permettra de déterminer la hauteur à l'affichage)\n",
    "- la \n",
    "\n",
    "## Données intermédiaires\n",
    "\n",
    "Le mur forme un angle $\\beta$ avec l'axe des abscisses.\n",
    "\n",
    "La rayon croise le mur au point I de coordonnées $\\binom{x_i}{y_i}$\n",
    "\n"
   ]
  },
  {
   "cell_type": "markdown",
   "metadata": {},
   "source": [
    "L'angle $\\beta$ se calcul par la formule\n",
    "\\begin{equation}\n",
    "\\beta=arctan(\\frac{y_2-y_1}{x_2-x_1})\n",
    "\\end{equation}"
   ]
  },
  {
   "cell_type": "markdown",
   "metadata": {},
   "source": [
    "L'équation de la droite $l_r$ passant par C est formant l'angle $\\alpha$ avec l'axe des X peut s'écrire sous la forme paramétrique suivante:\n",
    "\\begin{equation}\n",
    "l_r \\begin{cases} x=x_c + r_r \\cdot cos (\\alpha) \\\\ y=y_c + r_r \\cdot sin (\\alpha) \\end{cases}\n",
    "\\end{equation}"
   ]
  },
  {
   "cell_type": "markdown",
   "metadata": {},
   "source": [
    "La droite portant le mur \n",
    "\\begin{equation}\n",
    "l_m \\begin{cases} x=x_1 + r_m \\cdot cos (\\beta) \\\\ y=y_1 + r_m \\cdot sin (\\beta) \\end{cases}\n",
    "\\end{equation}"
   ]
  },
  {
   "cell_type": "markdown",
   "metadata": {},
   "source": [
    "Le point I est à l'intersection des deux droites $I=l_r \\cap l_r$"
   ]
  },
  {
   "cell_type": "markdown",
   "metadata": {},
   "source": [
    "\\begin{equation}\n",
    "I \\begin{cases} x_c + r_r \\cdot cos (\\alpha) = x_1 + r_m \\cdot cos (\\beta) \\\\ y_c + r_r \\cdot sin (\\alpha) = y_1 + r_m \\cdot sin (\\beta) \\end{cases}\n",
    "\\end{equation}"
   ]
  },
  {
   "cell_type": "markdown",
   "metadata": {},
   "source": [
    "\\begin{equation}\n",
    "distance = r_r = \\frac{sin(\\beta) \\cdot (x_c - x_1) + cos(\\beta) \\cdot (y_1-y_c)}{sin(\\alpha) \\cdot cos(\\beta) - cos(\\alpha) \\cdot sin(\\beta)}\n",
    "\\end{equation}"
   ]
  },
  {
   "cell_type": "markdown",
   "metadata": {},
   "source": [
    "## Suppression de l'effet Fisheye"
   ]
  },
  {
   "cell_type": "markdown",
   "metadata": {},
   "source": [
    "## Calcul des coordonées dans la texture"
   ]
  },
  {
   "cell_type": "markdown",
   "metadata": {},
   "source": [
    "Nous pouvons ainsi déduire les coordonnées du point d'intersection I:\n",
    "\\begin{equation}\n",
    "I \\begin{cases} x_i = x_c + r_r \\cdot cos (\\alpha) \\\\ y_i = y_c + r_r \\cdot sin (\\alpha) \\end{cases}\n",
    "\\end{equation}"
   ]
  },
  {
   "cell_type": "markdown",
   "metadata": {},
   "source": [
    "La distance entre les points P1 et I correspond à la colonne dans notre texture:\n",
    "\n",
    "$T_c = \\sqrt{(x_i-x_1)^2 + (y_i-y_1)^2}$"
   ]
  },
  {
   "cell_type": "code",
   "execution_count": null,
   "metadata": {},
   "outputs": [],
   "source": []
  }
 ],
 "metadata": {
  "kernelspec": {
   "display_name": "Python 3",
   "language": "python",
   "name": "python3"
  },
  "language_info": {
   "codemirror_mode": {
    "name": "ipython",
    "version": 3
   },
   "file_extension": ".py",
   "mimetype": "text/x-python",
   "name": "python",
   "nbconvert_exporter": "python",
   "pygments_lexer": "ipython3",
   "version": "3.9.0"
  }
 },
 "nbformat": 4,
 "nbformat_minor": 4
}
